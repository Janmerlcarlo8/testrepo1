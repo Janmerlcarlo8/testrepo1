{
    "cells": [
        {
            "metadata": {},
            "cell_type": "markdown",
            "source": "# \"My Jupyter Notebook on IBM Watson Studio\""
        },
        {
            "metadata": {},
            "cell_type": "markdown",
            "source": "**Janmerl Carlo M. Portin**"
        },
        {
            "metadata": {},
            "cell_type": "markdown",
            "source": "*I am interested in data science because it is the way of the future. It is a very interesting because it tackles different aspects like programming and statistics.*"
        },
        {
            "metadata": {},
            "cell_type": "markdown",
            "source": "### My code is supposed to show fibonacci sequence"
        },
        {
            "metadata": {},
            "cell_type": "code",
            "source": "i = 0\nj = 1\nn = int \nwhile(j<20):\n    print(j)\n    n = i\n    i = j\n    j = j + n",
            "execution_count": 1,
            "outputs": [
                {
                    "output_type": "stream",
                    "text": "1\n1\n2\n3\n5\n8\n13\n",
                    "name": "stdout"
                }
            ]
        },
        {
            "metadata": {},
            "cell_type": "markdown",
            "source": "### List of Billionaires"
        },
        {
            "metadata": {},
            "cell_type": "markdown",
            "source": "* Elon Musk\n* Bernard Arnault & family\n* Jeff Bezos\n* Gautam Adani\n* Bill Gates"
        },
        {
            "metadata": {},
            "cell_type": "markdown",
            "source": "Markdown | Less | Pretty\n--- | --- | ---\n*Janmerl* | `Carlo` | **Portin**\n1 | 2 | 3"
        },
        {
            "metadata": {},
            "cell_type": "markdown",
            "source": "[I'm an inline-style link](https://www.google.com)"
        }
    ],
    "metadata": {
        "kernelspec": {
            "name": "python3",
            "display_name": "Python 3.9",
            "language": "python"
        },
        "language_info": {
            "name": "python",
            "version": "3.9.13",
            "mimetype": "text/x-python",
            "codemirror_mode": {
                "name": "ipython",
                "version": 3
            },
            "pygments_lexer": "ipython3",
            "nbconvert_exporter": "python",
            "file_extension": ".py"
        }
    },
    "nbformat": 4,
    "nbformat_minor": 1
}